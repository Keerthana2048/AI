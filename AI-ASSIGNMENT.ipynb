{
 "cells": [
  {
   "cell_type": "code",
   "execution_count": 1,
   "id": "5d29114a-8c37-462a-b0d9-e7145ba6c7c2",
   "metadata": {},
   "outputs": [
    {
     "name": "stdout",
     "output_type": "stream",
     "text": [
      "Mean of data: 22.3\n",
      "Median of data: 21.0\n",
      "Mode of data: 0    15\n",
      "1    21\n",
      "Name: Values, dtype: int64\n",
      "Standard deviation of data: 6.3779132776934\n",
      "Variance of data: 40.67777777777778\n"
     ]
    }
   ],
   "source": [
    "import pandas as pd\n",
    "import numpy as np\n",
    "data = [15, 21, 29, 21, 15, 24, 32, 21, 15, 30]\n",
    "df = pd.DataFrame(data, columns=[\"Values\"])\n",
    "print(\"Mean of data:\",df[\"Values\"].mean())\n",
    "print(\"Median of data:\",df[\"Values\"].median())\n",
    "print(\"Mode of data:\",df[\"Values\"].mode())\n",
    "print(\"Standard deviation of data:\",df[\"Values\"].std())\n",
    "print(\"Variance of data:\",df[\"Values\"].var())"
   ]
  },
  {
   "cell_type": "code",
   "execution_count": 4,
   "id": "e4ab841e-32dc-4481-92c6-1a403bfb5fa5",
   "metadata": {},
   "outputs": [
    {
     "name": "stdout",
     "output_type": "stream",
     "text": [
      "Mean Accuracy: 94.92060000000001\n",
      "Total Robots: 500\n",
      "    Robot_ID   Task_Type\n",
      "0    RBT_001  Inspection\n",
      "1    RBT_002    Assembly\n",
      "2    RBT_003  Inspection\n",
      "3    RBT_004     Welding\n",
      "4    RBT_005    Assembly\n",
      "..       ...         ...\n",
      "495  RBT_496  Inspection\n",
      "496  RBT_497  Inspection\n",
      "497  RBT_498  Inspection\n",
      "498  RBT_499    Assembly\n",
      "499  RBT_500    Assembly\n",
      "\n",
      "[500 rows x 2 columns]\n",
      "   Robot_ID   Task_Type Component_ID     Sensor_Type            Sensor_Data  \\\n",
      "10  RBT_011    Assembly      CMP_567          Camera        0 (no obstacle)   \n",
      "11  RBT_012    Painting      CMP_268           LIDAR              75.8 (°C)   \n",
      "12  RBT_013  Inspection      CMP_631         Thermal      98% (defect-free)   \n",
      "13  RBT_014  Inspection      CMP_115          Camera              82.4 (°C)   \n",
      "14  RBT_015  Inspection      CMP_932  LIDAR + Camera       92% (visual fit)   \n",
      "15  RBT_016    Assembly      CMP_424  LIDAR + Camera       92% (visual fit)   \n",
      "16  RBT_017  Inspection      CMP_201          Camera        0 (no obstacle)   \n",
      "17  RBT_018    Painting      CMP_262  LIDAR + Camera       92% (visual fit)   \n",
      "18  RBT_019  Inspection      CMP_742  LIDAR + Camera  1 (obstacle detected)   \n",
      "19  RBT_020    Painting      CMP_370         Thermal        0 (no obstacle)   \n",
      "\n",
      "    Processing_Time (s)  Accuracy (%) Environmental_Status  \\\n",
      "10                 48.5          96.1             Unstable   \n",
      "11                 44.8          99.6               Stable   \n",
      "12                 53.2          93.8             Unstable   \n",
      "13                 41.7          92.0               Stable   \n",
      "14                 50.0          91.3               Stable   \n",
      "15                 57.0          98.1             Unstable   \n",
      "16                 78.1          98.9               Stable   \n",
      "17                 49.3          92.0             Unstable   \n",
      "18                 78.9          98.5             Unstable   \n",
      "19                 75.6          98.7               Stable   \n",
      "\n",
      "    Energy_Consumption (kWh) Human_Intervention_Needed Obstacle_Detected  \\\n",
      "10                       2.6                       Yes               Yes   \n",
      "11                       2.2                        No               Yes   \n",
      "12                       2.0                        No                No   \n",
      "13                       2.2                       Yes                No   \n",
      "14                       2.8                       Yes                No   \n",
      "15                       1.6                       Yes               Yes   \n",
      "16                       2.9                       Yes               Yes   \n",
      "17                       1.8                       Yes                No   \n",
      "18                       2.4                       Yes                No   \n",
      "19                       1.1                       Yes               Yes   \n",
      "\n",
      "   Defect_Detected  Interaction_Count  Steps_Walked  Objects_Recognized  \\\n",
      "10             Yes                  6            39                   8   \n",
      "11              No                  3            29                   9   \n",
      "12              No                 11             0                   7   \n",
      "13              No                  7            24                   0   \n",
      "14             Yes                  8            25                   1   \n",
      "15              No                  3            26                   2   \n",
      "16             Yes                  9            23                   3   \n",
      "17             Yes                  2            13                   2   \n",
      "18             Yes                  6            15                   5   \n",
      "19              No                  5            14                   3   \n",
      "\n",
      "    Learning_Sessions  Energy_Consumption (kWh).1  \n",
      "10                 58                         102  \n",
      "11                 10                         302  \n",
      "12                 20                         210  \n",
      "13                 30                         320  \n",
      "14                 41                         230  \n",
      "15                 20                         130  \n",
      "16                 32                         124  \n",
      "17                 25                         107  \n",
      "18                 14                         108  \n",
      "19                 23                         109  \n",
      "                Processing_Time (s)  Accuracy (%)  Energy_Consumption (kWh)  \\\n",
      "Sensor_Type                                                                   \n",
      "Camera                    58.279832     95.153782                  2.017647   \n",
      "LIDAR                     60.621008     95.047899                  2.071429   \n",
      "LIDAR + Camera            59.404762     94.743651                  1.980952   \n",
      "Thermal                   61.281618     94.769118                  1.991176   \n",
      "\n",
      "                Interaction_Count  Steps_Walked  Objects_Recognized  \\\n",
      "Sensor_Type                                                           \n",
      "Camera                   5.478992     28.630252            4.109244   \n",
      "LIDAR                    5.613445     29.159664            5.025210   \n",
      "LIDAR + Camera           5.460317     29.492063            4.595238   \n",
      "Thermal                  5.492647     27.838235            4.845588   \n",
      "\n",
      "                Learning_Sessions  Energy_Consumption (kWh).1  \n",
      "Sensor_Type                                                    \n",
      "Camera                  36.033613                  235.243697  \n",
      "LIDAR                   36.773109                  253.117647  \n",
      "LIDAR + Camera          34.746032                  217.333333  \n",
      "Thermal                 36.308824                  239.897059  \n",
      "                                Robot_ID Component_ID Sensor_Type  \\\n",
      "Task_Type  Environmental_Status                                     \n",
      "Assembly   Stable                RBT_002      CMP_252     Thermal   \n",
      "           Unstable              RBT_005      CMP_992      Camera   \n",
      "Inspection Stable                RBT_001      CMP_460       LIDAR   \n",
      "           Unstable              RBT_003      CMP_248     Thermal   \n",
      "Painting   Stable                RBT_010      CMP_617       LIDAR   \n",
      "           Unstable              RBT_006      CMP_309     Thermal   \n",
      "Welding    Stable                RBT_004      CMP_433      Camera   \n",
      "           Unstable              RBT_034      CMP_995       LIDAR   \n",
      "\n",
      "                                           Sensor_Data  Processing_Time (s)  \\\n",
      "Task_Type  Environmental_Status                                               \n",
      "Assembly   Stable                            85.3 (°C)                 71.2   \n",
      "           Unstable                   92% (visual fit)                 64.5   \n",
      "Inspection Stable                1 (obstacle detected)                 67.0   \n",
      "           Unstable                   92% (visual fit)                 49.2   \n",
      "Painting   Stable                      0 (no obstacle)                 65.1   \n",
      "           Unstable              1 (obstacle detected)                 51.6   \n",
      "Welding    Stable                    98% (defect-free)                 74.5   \n",
      "           Unstable                    0 (no obstacle)                 52.9   \n",
      "\n",
      "                                 Accuracy (%)  Energy_Consumption (kWh)  \\\n",
      "Task_Type  Environmental_Status                                           \n",
      "Assembly   Stable                        98.1                       2.7   \n",
      "           Unstable                      97.2                       1.8   \n",
      "Inspection Stable                        90.4                       2.2   \n",
      "           Unstable                      95.3                       2.4   \n",
      "Painting   Stable                        94.1                       2.9   \n",
      "           Unstable                      93.4                       1.5   \n",
      "Welding    Stable                        90.2                       2.4   \n",
      "           Unstable                      97.4                       1.0   \n",
      "\n",
      "                                Human_Intervention_Needed Obstacle_Detected  \\\n",
      "Task_Type  Environmental_Status                                               \n",
      "Assembly   Stable                                     Yes                No   \n",
      "           Unstable                                    No                No   \n",
      "Inspection Stable                                      No               Yes   \n",
      "           Unstable                                    No                No   \n",
      "Painting   Stable                                      No                No   \n",
      "           Unstable                                    No                No   \n",
      "Welding    Stable                                     Yes                No   \n",
      "           Unstable                                   Yes                No   \n",
      "\n",
      "                                Defect_Detected  Interaction_Count  \\\n",
      "Task_Type  Environmental_Status                                      \n",
      "Assembly   Stable                            No                  6   \n",
      "           Unstable                          No                  8   \n",
      "Inspection Stable                           Yes                  2   \n",
      "           Unstable                          No                  2   \n",
      "Painting   Stable                            No                  1   \n",
      "           Unstable                          No                  2   \n",
      "Welding    Stable                           Yes                  7   \n",
      "           Unstable                          No                  6   \n",
      "\n",
      "                                 Steps_Walked  Objects_Recognized  \\\n",
      "Task_Type  Environmental_Status                                     \n",
      "Assembly   Stable                          23                   4   \n",
      "           Unstable                        35                   3   \n",
      "Inspection Stable                          10                   2   \n",
      "           Unstable                        25                   3   \n",
      "Painting   Stable                          29                   5   \n",
      "           Unstable                        34                   6   \n",
      "Welding    Stable                          34                   5   \n",
      "           Unstable                        36                   4   \n",
      "\n",
      "                                 Learning_Sessions  Energy_Consumption (kWh).1  \n",
      "Task_Type  Environmental_Status                                                 \n",
      "Assembly   Stable                               12                         123  \n",
      "           Unstable                             32                         654  \n",
      "Inspection Stable                               10                         100  \n",
      "           Unstable                             45                         321  \n",
      "Painting   Stable                               47                         254  \n",
      "           Unstable                             65                         153  \n",
      "Welding    Stable                               12                         456  \n",
      "           Unstable                             69                         320  \n"
     ]
    }
   ],
   "source": [
    "import numpy as np\n",
    "import pandas as pd\n",
    "df = pd.read_csv(\"robot_dataset(robot_dataset)_1 (1).csv\")\n",
    "print(\"Mean Accuracy:\", df[\"Accuracy (%)\"].mean())\n",
    "print(\"Total Robots:\", df[\"Robot_ID\"].count())\n",
    "print(df[[\"Robot_ID\", \"Task_Type\"]])\n",
    "print(df.iloc[10:20])\n",
    "print(df.groupby(['Sensor_Type']).mean(numeric_only=True))\n",
    "grouping = df.groupby(['Task_Type','Environmental_Status'])\n",
    "print(grouping.first())"
   ]
  },
  {
   "cell_type": "code",
   "execution_count": 5,
   "id": "7b30a699-9205-4248-889d-e2d9d25715b2",
   "metadata": {},
   "outputs": [
    {
     "name": "stdout",
     "output_type": "stream",
     "text": [
      "My name is Keerthana. I am 20 years old.\n",
      "My height is 5.5 feet.\n",
      "Am I a student? True.\n"
     ]
    }
   ],
   "source": [
    "name = \"Keerthana\"\n",
    "age = 20\n",
    "height = 5.5\n",
    "is_student = True\n",
    "print(f\"My name is {name}. I am {age} years old.\")\n",
    "print(f\"My height is {height} feet.\")\n",
    "print(f\"Am I a student? {is_student}.\")"
   ]
  },
  {
   "cell_type": "code",
   "execution_count": 6,
   "id": "afd14e8a-d2e0-42d7-adab-c6083d48f21e",
   "metadata": {},
   "outputs": [
    {
     "name": "stdin",
     "output_type": "stream",
     "text": [
      "Enter an integer: -4\n"
     ]
    },
    {
     "name": "stdout",
     "output_type": "stream",
     "text": [
      "The number is negative.\n"
     ]
    }
   ],
   "source": [
    "num = int(input(\"Enter an integer:\"))\n",
    "if num > 0:\n",
    "    print(\"The number is positive.\")\n",
    "elif num < 0:\n",
    "    print(\"The number is negative.\")\n",
    "else:\n",
    "    print(\"The number is zero.\")"
   ]
  },
  {
   "cell_type": "code",
   "execution_count": 7,
   "id": "b0477aa4-e415-470f-beb4-fd788b0409dd",
   "metadata": {},
   "outputs": [
    {
     "name": "stdin",
     "output_type": "stream",
     "text": [
      "Enter a number:  5\n"
     ]
    },
    {
     "name": "stdout",
     "output_type": "stream",
     "text": [
      "5 x 1 = 5\n",
      "5 x 2 = 10\n",
      "5 x 3 = 15\n",
      "5 x 4 = 20\n",
      "5 x 5 = 25\n",
      "5 x 6 = 30\n",
      "5 x 7 = 35\n",
      "5 x 8 = 40\n",
      "5 x 9 = 45\n",
      "5 x 10 = 50\n"
     ]
    }
   ],
   "source": [
    "num = int(input(\"Enter a number: \"))\n",
    "for i in range(1, 11):\n",
    "    print(f\"{num} x {i} = {num * i}\")"
   ]
  },
  {
   "cell_type": "code",
   "execution_count": 8,
   "id": "1f36c533-abc6-4f98-8c70-dbaceb22e9af",
   "metadata": {},
   "outputs": [
    {
     "name": "stdout",
     "output_type": "stream",
     "text": [
      "After adding Grapes: ['Apple', 'Banana', 'Cherry', 'Mango', 'Orange', 'Grapes']\n",
      "After removing Banana: ['Apple', 'Cherry', 'Mango', 'Orange', 'Grapes']\n",
      "After sorting: ['Apple', 'Cherry', 'Grapes', 'Mango', 'Orange']\n",
      "After reversing: ['Orange', 'Mango', 'Grapes', 'Cherry', 'Apple']\n",
      "Index of Cherry: 3\n",
      "The third fruit in the list: Grapes\n",
      "Sliced list (index 1 to 3): ['Mango', 'Grapes', 'Cherry']\n"
     ]
    }
   ],
   "source": [
    "fruits = [\"Apple\", \"Banana\", \"Cherry\", \"Mango\", \"Orange\"]\n",
    "fruits.append(\"Grapes\")\n",
    "print(\"After adding Grapes:\", fruits)\n",
    "fruits.remove(\"Banana\")\n",
    "print(\"After removing Banana:\", fruits)\n",
    "fruits.sort()\n",
    "print(\"After sorting:\", fruits)\n",
    "fruits.reverse()\n",
    "print(\"After reversing:\", fruits)\n",
    "index_cherry = fruits.index(\"Cherry\")\n",
    "print(\"Index of Cherry:\", index_cherry)\n",
    "third_fruit = fruits[2]\n",
    "print(\"The third fruit in the list:\", third_fruit)\n",
    "sliced_fruits = fruits[1:4]\n",
    "print(\"Sliced list (index 1 to 3):\", sliced_fruits)"
   ]
  },
  {
   "cell_type": "code",
   "execution_count": 9,
   "id": "418f0682-1d95-447a-9d84-1d62aa0f7379",
   "metadata": {},
   "outputs": [
    {
     "name": "stdout",
     "output_type": "stream",
     "text": [
      "Third element: 30\n",
      "Sliced tuple (1 to 3): (20, 30, 40)\n",
      "Index of 30: 2\n",
      "Count of 20: 1\n",
      "Sum: 150\n",
      "Max: 50 Min: 10\n"
     ]
    }
   ],
   "source": [
    "numbers = (10, 20, 30, 40, 50)\n",
    "print(\"Third element:\", numbers[2])\n",
    "print(\"Sliced tuple (1 to 3):\", numbers[1:4])\n",
    "print(\"Index of 30:\", numbers.index(30))\n",
    "print(\"Count of 20:\", numbers.count(20))\n",
    "print(\"Sum:\", sum(numbers))\n",
    "print(\"Max:\", max(numbers), \"Min:\", min(numbers))"
   ]
  },
  {
   "cell_type": "code",
   "execution_count": 10,
   "id": "190ede61-ccc4-46bd-b695-7eb2526fcb7b",
   "metadata": {},
   "outputs": [
    {
     "name": "stdout",
     "output_type": "stream",
     "text": [
      "Keerthana's Marks: 88\n",
      "Final Marks: {'Keerthana': 88, 'Bavya': 90}\n"
     ]
    }
   ],
   "source": [
    "students = {\"Keerthana\": 85, \"Bavya\": 92, \"Lowkya\": 78}\n",
    "students[\"Keerthana\"] = 88\n",
    "students[\"Bavya\"] = 90\n",
    "students.pop(\"Lowkya\")\n",
    "print(\"Keerthana's Marks:\", students[\"Keerthana\"])\n",
    "print(\"Final Marks:\", students)"
   ]
  },
  {
   "cell_type": "code",
   "execution_count": 11,
   "id": "b5217175-12eb-42c2-83cf-0b25fee33213",
   "metadata": {},
   "outputs": [
    {
     "name": "stdout",
     "output_type": "stream",
     "text": [
      "Union: {1, 2, 3, 4, 5, 6, 7, 8}\n",
      "Intersection: {4, 5}\n",
      "Difference (set1 - set2): {1, 2, 3}\n",
      "Symmetric Difference: {1, 2, 3, 6, 7, 8}\n"
     ]
    }
   ],
   "source": [
    "set1 = {1, 2, 3, 4, 5}\n",
    "set2 = {4, 5, 6, 7, 8}\n",
    "print(\"Union:\", set1 | set2)\n",
    "print(\"Intersection:\", set1 & set2)\n",
    "print(\"Difference (set1 - set2):\", set1 - set2)\n",
    "print(\"Symmetric Difference:\", set1 ^ set2)"
   ]
  },
  {
   "cell_type": "code",
   "execution_count": 12,
   "id": "fcf7d417-9d18-45e1-bfe5-08b5806b399f",
   "metadata": {},
   "outputs": [
    {
     "name": "stdout",
     "output_type": "stream",
     "text": [
      "The largest number in the list is: 89\n"
     ]
    }
   ],
   "source": [
    "def find_largest(numbers):\n",
    "    return max(numbers)\n",
    "list = [12, 45, 23, 67, 89, 34]\n",
    "largest_number = find_largest(list)\n",
    "print(\"The largest number in the list is:\", largest_number)"
   ]
  },
  {
   "cell_type": "code",
   "execution_count": 13,
   "id": "5055a6ad-781a-4bad-a6a6-bdcc7f8cacec",
   "metadata": {},
   "outputs": [
    {
     "name": "stdout",
     "output_type": "stream",
     "text": [
      "[4, 16, 36, 64, 100, 144, 196, 256, 324, 400]\n"
     ]
    }
   ],
   "source": [
    "squares_of_even_numbers = [x**2 for x in range(1, 21) if x % 2 == 0]\n",
    "print(squares_of_even_numbers)"
   ]
  },
  {
   "cell_type": "code",
   "execution_count": 15,
   "id": "c0b6cec7-291f-44e4-8523-39217f7b533b",
   "metadata": {},
   "outputs": [
    {
     "name": "stdin",
     "output_type": "stream",
     "text": [
      "Enter the first number:  45\n",
      "Enter the second number:  32\n"
     ]
    },
    {
     "name": "stdout",
     "output_type": "stream",
     "text": [
      "The product of 45.0 and 32.0 is: 1440.0\n"
     ]
    }
   ],
   "source": [
    "# Taking two numbers as input from the user\n",
    "num1 = float(input(\"Enter the first number: \"))\n",
    "num2 = float(input(\"Enter the second number: \"))\n",
    "product = (lambda x, y: x * y)(num1, num2)\n",
    "print(\"The product of\", num1, \"and\", num2, \"is:\", product)"
   ]
  },
  {
   "cell_type": "code",
   "execution_count": 1,
   "id": "2a95b117-7f0b-41f6-9808-b8cffc911df3",
   "metadata": {},
   "outputs": [
    {
     "name": "stdout",
     "output_type": "stream",
     "text": [
      "One-dimensional array:\n",
      "Array: [1 2 3 4 5]\n",
      "Shape: (5,)\n",
      "Dimensions: 1\n",
      "\n",
      "Two-dimensional array:\n",
      "Array: [[1 2 3]\n",
      " [4 5 6]\n",
      " [7 8 9]]\n",
      "Shape: (3, 3)\n",
      "Dimensions: 2\n",
      "\n",
      "Three-dimensional array:\n",
      "Array: [[[1 2]\n",
      "  [3 4]]\n",
      "\n",
      " [[5 6]\n",
      "  [7 8]]]\n",
      "Shape: (2, 2, 2)\n",
      "Dimensions: 3\n"
     ]
    }
   ],
   "source": [
    "import numpy as np\n",
    "arr_1d = np.array([1, 2, 3, 4, 5])\n",
    "print(\"One-dimensional array:\")\n",
    "print(\"Array:\", arr_1d)\n",
    "print(\"Shape:\", arr_1d.shape)\n",
    "print(\"Dimensions:\", arr_1d.ndim)\n",
    "print()\n",
    "arr_2d = np.array([[1, 2, 3], [4, 5, 6], [7, 8, 9]])\n",
    "print(\"Two-dimensional array:\")\n",
    "print(\"Array:\", arr_2d)\n",
    "print(\"Shape:\", arr_2d.shape)\n",
    "print(\"Dimensions:\", arr_2d.ndim)\n",
    "print()\n",
    "arr_3d = np.array([[[1, 2], [3, 4]], [[5, 6], [7, 8]]])\n",
    "print(\"Three-dimensional array:\")\n",
    "print(\"Array:\", arr_3d)\n",
    "print(\"Shape:\", arr_3d.shape)\n",
    "print(\"Dimensions:\", arr_3d.ndim)"
   ]
  },
  {
   "cell_type": "code",
   "execution_count": 2,
   "id": "7fc0f30b-a499-46c4-9345-93c7ea7288d0",
   "metadata": {},
   "outputs": [
    {
     "name": "stdout",
     "output_type": "stream",
     "text": [
      "5x5 Array:\n",
      " [[ 4 68 52 38 56]\n",
      " [34 72 34 98  7]\n",
      " [ 3 64  4  7  4]\n",
      " [80 67 56 31  8]\n",
      " [83 22 14 95 72]]\n",
      "\n",
      "Element at (2, 3): 34\n",
      "Second row: [34 72 34 98  7]\n",
      "Third column: [52 34  4 56 14]\n",
      "Last row: [83 22 14 95 72]\n",
      "Bottom-right element: 72\n"
     ]
    }
   ],
   "source": [
    "import numpy as np\n",
    "arr = np.random.random((5, 5)) * 100 \n",
    "arr = arr.astype(int)\n",
    "print(\"5x5 Array:\\n\", arr)\n",
    "print(\"\\nElement at (2, 3):\", arr[1, 2])  # Second row, third column\n",
    "print(\"Second row:\", arr[1])\n",
    "print(\"Third column:\", arr[:, 2])\n",
    "print(\"Last row:\", arr[4])\n",
    "print(\"Bottom-right element:\", arr[4, 4])"
   ]
  },
  {
   "cell_type": "code",
   "execution_count": 3,
   "id": "de6de81c-d87e-4dc2-9d40-b1ab2e5f3a0f",
   "metadata": {},
   "outputs": [
    {
     "name": "stdout",
     "output_type": "stream",
     "text": [
      "4x4 Array:\n",
      " [[ 1  2  3  4]\n",
      " [ 5  6  7  8]\n",
      " [ 9 10 11 12]\n",
      " [13 14 15 16]]\n",
      "\n",
      "First two rows:\n",
      " [[1 2 3 4]\n",
      " [5 6 7 8]]\n",
      "\n",
      "Last two columns:\n",
      " [[ 3  4]\n",
      " [ 7  8]\n",
      " [11 12]\n",
      " [15 16]]\n",
      "\n",
      "Diagonal elements: [ 1  6 11 16]\n",
      "\n",
      "Subarray (2nd and 3rd rows, 2nd and 3rd columns):\n",
      " [[ 6  7]\n",
      " [10 11]]\n"
     ]
    }
   ],
   "source": [
    "import numpy as np\n",
    "arr = np.arange(1, 17).reshape(4, 4)\n",
    "print(\"4x4 Array:\\n\", arr)\n",
    "print(\"\\nFirst two rows:\\n\", arr[:2])\n",
    "print(\"\\nLast two columns:\\n\", arr[:, -2:])\n",
    "print(\"\\nDiagonal elements:\", arr.diagonal())\n",
    "print(\"\\nSubarray (2nd and 3rd rows, 2nd and 3rd columns):\\n\", arr[1:3, 1:3])"
   ]
  },
  {
   "cell_type": "code",
   "execution_count": 4,
   "id": "028b0e68-2635-4977-99d2-f7732721bc6d",
   "metadata": {},
   "outputs": [
    {
     "name": "stdout",
     "output_type": "stream",
     "text": [
      "2D Array (6, 2):\n",
      " [[ 1  2]\n",
      " [ 3  4]\n",
      " [ 5  6]\n",
      " [ 7  8]\n",
      " [ 9 10]\n",
      " [11 12]]\n",
      "\n",
      "Reshaped 3D Array (2, 3, 2):\n",
      " [[[ 1  2]\n",
      "  [ 3  4]\n",
      "  [ 5  6]]\n",
      "\n",
      " [[ 7  8]\n",
      "  [ 9 10]\n",
      "  [11 12]]]\n",
      "\n",
      "Flattened Array:\n",
      " [ 1  2  3  4  5  6  7  8  9 10 11 12]\n"
     ]
    }
   ],
   "source": [
    "import numpy as np\n",
    "arr_2d = np.arange(1, 13).reshape(6, 2)\n",
    "print(\"2D Array (6, 2):\\n\", arr_2d)\n",
    "arr_3d = arr_2d.reshape(2, 3, 2)\n",
    "print(\"\\nReshaped 3D Array (2, 3, 2):\\n\", arr_3d)\n",
    "arr_flattened = arr_3d.flatten()\n",
    "print(\"\\nFlattened Array:\\n\", arr_flattened)"
   ]
  },
  {
   "cell_type": "code",
   "execution_count": 5,
   "id": "0594a3df-76c9-46b2-bbb7-733f9577d242",
   "metadata": {},
   "outputs": [
    {
     "name": "stdout",
     "output_type": "stream",
     "text": [
      "Result after Broadcasting:\n",
      " [[11 22 33]\n",
      " [14 25 36]\n",
      " [17 28 39]]\n"
     ]
    }
   ],
   "source": [
    "import numpy as np\n",
    "arr_2d = np.array([[1, 2, 3], [4, 5, 6], [7, 8, 9]])\n",
    "arr_1d = np.array([10, 20, 30])\n",
    "result = arr_2d + arr_1d\n",
    "print(\"Result after Broadcasting:\\n\", result)"
   ]
  },
  {
   "cell_type": "code",
   "execution_count": 6,
   "id": "9978920d-a273-438f-99b8-9295bb101308",
   "metadata": {},
   "outputs": [
    {
     "name": "stdout",
     "output_type": "stream",
     "text": [
      "Addition:\n",
      " [[10 10 10]\n",
      " [10 10 10]\n",
      " [10 10 10]]\n",
      "\n",
      "Subtraction:\n",
      " [[-8 -6 -4]\n",
      " [-2  0  2]\n",
      " [ 4  6  8]]\n",
      "\n",
      "Multiplication:\n",
      " [[ 9 16 21]\n",
      " [24 25 24]\n",
      " [21 16  9]]\n",
      "\n",
      "Division:\n",
      " [[0.11111111 0.25       0.42857143]\n",
      " [0.66666667 1.         1.5       ]\n",
      " [2.33333333 4.         9.        ]]\n"
     ]
    }
   ],
   "source": [
    "import numpy as np\n",
    "A = np.array([[1, 2, 3], [4, 5, 6], [7, 8, 9]])\n",
    "B = np.array([[9, 8, 7], [6, 5, 4], [3, 2, 1]])\n",
    "print(\"Addition:\\n\", A + B)\n",
    "print(\"\\nSubtraction:\\n\", A - B)\n",
    "print(\"\\nMultiplication:\\n\", A * B)\n",
    "print(\"\\nDivision:\\n\", A / B)"
   ]
  },
  {
   "cell_type": "code",
   "execution_count": 7,
   "id": "1cd841b7-ea58-4a5f-b809-748dfbb5af11",
   "metadata": {},
   "outputs": [
    {
     "name": "stdout",
     "output_type": "stream",
     "text": [
      "        Name  Mathematics  AI  Chemistry  Total Grade\n",
      "0  Keerthana           85  88         79    252     A\n",
      "1      Bavya           90  76         84    250     A\n",
      "2     Lowkya           78  92         85    255     A\n"
     ]
    }
   ],
   "source": [
    "import pandas as pd\n",
    "data = {'Name': ['Keerthana', 'Bavya', 'Lowkya'],\n",
    "        'Mathematics': [85, 90, 78],\n",
    "        'AI': [88, 76, 92],\n",
    "        'Chemistry': [79, 84, 85]}\n",
    "df = pd.DataFrame(data)\n",
    "df['Total'] = df[['Mathematics', 'AI', 'Chemistry']].sum(axis=1)\n",
    "df['Grade'] = df['Total'].apply(lambda x: 'A' if x >= 240 else 'B' if x >= 180 else 'C' if x >= 120 else 'D')\n",
    "print(df)"
   ]
  },
  {
   "cell_type": "code",
   "execution_count": null,
   "id": "5db44350-63ab-4203-89ae-8f854fbd36a2",
   "metadata": {},
   "outputs": [],
   "source": []
  }
 ],
 "metadata": {
  "kernelspec": {
   "display_name": "Python 3 (ipykernel)",
   "language": "python",
   "name": "python3"
  },
  "language_info": {
   "codemirror_mode": {
    "name": "ipython",
    "version": 3
   },
   "file_extension": ".py",
   "mimetype": "text/x-python",
   "name": "python",
   "nbconvert_exporter": "python",
   "pygments_lexer": "ipython3",
   "version": "3.12.4"
  }
 },
 "nbformat": 4,
 "nbformat_minor": 5
}
